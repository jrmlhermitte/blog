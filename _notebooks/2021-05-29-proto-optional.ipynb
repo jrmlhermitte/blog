{
 "cells": [
  {
   "cell_type": "markdown",
   "id": "a426f2d2-f3a6-4329-a139-72ba162392f3",
   "metadata": {},
   "source": [
    "# Why you should use the new proto3 optional keyword\n",
    "> \"In this post I will attempt to explain the importance of optional in proto3, and what the consequences are of its absence.\"\n",
    "\n",
    "- toc: true\n",
    "- branch: master\n",
    "- badges: true\n",
    "- comments: true\n",
    "- categories: [fastpages, jupyter]\n",
    "- hide: false\n",
    "- search_exclude: true"
   ]
  },
  {
   "cell_type": "code",
   "execution_count": 1,
   "id": "e876a49d-e93a-48e2-ac9c-4b5274b50656",
   "metadata": {},
   "outputs": [
    {
     "name": "stdout",
     "output_type": "stream",
     "text": [
      "  % Total    % Received % Xferd  Average Speed   Time    Time     Time  Current\n",
      "                                 Dload  Upload   Total   Spent    Left  Speed\n",
      "100   636  100   636    0     0   7310      0 --:--:-- --:--:-- --:--:--  7310\n",
      "100 1600k  100 1600k    0     0  1679k      0 --:--:-- --:--:-- --:--:-- 24.0M\n",
      "Archive:  /tmp/protoc-3.15.8-linux-x86_64.zip\n",
      "  inflating: /home/julien/.local/proto/include/google/protobuf/wrappers.proto  \n",
      "  inflating: /home/julien/.local/proto/include/google/protobuf/field_mask.proto  \n",
      "  inflating: /home/julien/.local/proto/include/google/protobuf/api.proto  \n",
      "  inflating: /home/julien/.local/proto/include/google/protobuf/struct.proto  \n",
      "  inflating: /home/julien/.local/proto/include/google/protobuf/descriptor.proto  \n",
      "  inflating: /home/julien/.local/proto/include/google/protobuf/timestamp.proto  \n",
      "  inflating: /home/julien/.local/proto/include/google/protobuf/compiler/plugin.proto  \n",
      "  inflating: /home/julien/.local/proto/include/google/protobuf/empty.proto  \n",
      "  inflating: /home/julien/.local/proto/include/google/protobuf/any.proto  \n",
      "  inflating: /home/julien/.local/proto/include/google/protobuf/source_context.proto  \n",
      "  inflating: /home/julien/.local/proto/include/google/protobuf/type.proto  \n",
      "  inflating: /home/julien/.local/proto/include/google/protobuf/duration.proto  \n",
      "  inflating: /home/julien/.local/proto/bin/protoc  \n",
      "  inflating: /home/julien/.local/proto/readme.txt  \n"
     ]
    }
   ],
   "source": [
    "# hide\n",
    "# Here we install the latest version of protobuf so far so that this demo works\n",
    "!curl -o /tmp/protoc-3.15.8-linux-x86_64.zip -LO https://github.com/protocolbuffers/protobuf/releases/download/v3.15.8/protoc-3.15.8-linux-x86_64.zip \n",
    "!mkdir -p $HOME/.local/proto\n",
    "!unzip -o /tmp/protoc-3.15.8-linux-x86_64.zip -d $HOME/.local/proto\n",
    "# ensuring the directories exist\n",
    "!mkdir -p code_snippets_2021_05_29"
   ]
  },
  {
   "cell_type": "markdown",
   "id": "98baa39c-a4d9-415d-853a-fd7b95dc6d1b",
   "metadata": {},
   "source": [
    "## A convincing argument, not by definition, but by observation\n",
    "\n",
    "Protobufs are a quite popular message protocol used as an alternative to JSON.\n",
    "Although less readable, it offers a lot more compression.\n",
    "Message passing between services is pretty critical for\n",
    "isolated machine learning services, which makes proto3 an ideal\n",
    "candidate for these applications (for example, a classifier \n",
    "running on a GPU).\n",
    "\n",
    "There are two versions: proto2 and proto3. Proto3 is supposed to be the next\n",
    "version of proto2. However up until version 3.12, \n",
    "it was missing a very important feature: `optional` values. See [here](https://github.com/protocolbuffers/protobuf/issues/1606)\n",
    "for a long discussion about this.\n",
    "\n",
    "Since proto 3.12 [onwards](https://github.com/protocolbuffers/protobuf/releases/tag/v3.12.0) \n",
    "(May 2020) as an experimental feature and then officially \n",
    "supported 3.15 [onwards](https://github.com/protocolbuffers/protobuf/releases/tag/v3.15.0)\n",
    "(Feb 2021), there is an new feature allowing for defining optional \n",
    "fields for primitive fields.\n",
    "\n",
    "Why has this change been made?\n",
    "In this post, I will attempt to convince you why the optional field is necessary\n",
    "not by definition, but by observation.\n",
    "It is not the intention of this post to go into any details specific to \n",
    "the protos themselves which is well described in the references mentioned\n",
    "above.\n",
    "\n",
    "\n",
    "All the code run here can be run by clicking the google collab link on this page.\n",
    "\n",
    "Let's just begin by creating a proto."
   ]
  },
  {
   "cell_type": "code",
   "execution_count": 2,
   "id": "fefd0543-1f7a-47c6-ad83-819b393e1d8b",
   "metadata": {},
   "outputs": [],
   "source": [
    "# Here we'll write to this file in python, since we are in a jupyter notebook.\n",
    "PROTO_DIR = 'code_snippets_2021_05_29'\n",
    "filename = PROTO_DIR + '/user_1.proto'\n",
    "\n",
    "my_proto = \"\"\"\n",
    "syntax = \"proto3\";\n",
    "package user_1;\n",
    "\n",
    "\n",
    "message User {\n",
    "    string name  = 1;\n",
    "    uint32 age = 2;\n",
    "}\n",
    "\"\"\"\n",
    "\n",
    "with open(filename, 'w') as file:\n",
    "  file.write(my_proto)"
   ]
  },
  {
   "cell_type": "markdown",
   "id": "a10a255e-fcc9-4af6-9e76-e4408b97ebcc",
   "metadata": {},
   "source": [
    "Now let's compile it in python"
   ]
  },
  {
   "cell_type": "code",
   "execution_count": 3,
   "id": "8b53a8f7-e2eb-4a4d-bd99-04dbf87aaf11",
   "metadata": {},
   "outputs": [],
   "source": [
    "!$HOME/.local/proto/bin/protoc code_snippets_2021_05_29/*.proto --python_out=."
   ]
  },
  {
   "cell_type": "code",
   "execution_count": 4,
   "id": "6ad2ff95-268f-4a39-8bf1-e1ba0eaddbf7",
   "metadata": {},
   "outputs": [],
   "source": [
    "from code_snippets_2021_05_29 import user_1_pb2"
   ]
  },
  {
   "cell_type": "markdown",
   "id": "b796ff50-b233-46d6-bc32-844e30164627",
   "metadata": {},
   "source": [
    "Now let's create a user with no fields"
   ]
  },
  {
   "cell_type": "code",
   "execution_count": 5,
   "id": "af4b1173-6303-4acc-b937-82505808ac11",
   "metadata": {},
   "outputs": [],
   "source": [
    "user = user_1_pb2.User()"
   ]
  },
  {
   "cell_type": "code",
   "execution_count": 6,
   "id": "06349470-22a7-44a4-bba0-874cd9c020d0",
   "metadata": {},
   "outputs": [],
   "source": [
    "from google.protobuf.json_format import MessageToDict"
   ]
  },
  {
   "cell_type": "markdown",
   "id": "759bced3-9de1-45ac-8385-05a4aef69f9f",
   "metadata": {},
   "source": [
    "Now let's print the contents of this user.\n",
    "One good way is just to convert it to a \n",
    "python dictionary."
   ]
  },
  {
   "cell_type": "code",
   "execution_count": 7,
   "id": "4a1e4ae4-e280-4a57-9d2b-e0ac20bb5aeb",
   "metadata": {},
   "outputs": [
    {
     "data": {
      "text/plain": [
       "{}"
      ]
     },
     "execution_count": 7,
     "metadata": {},
     "output_type": "execute_result"
    }
   ],
   "source": [
    "MessageToDict(user)"
   ]
  },
  {
   "cell_type": "markdown",
   "id": "ad47f205-1652-4983-a2ba-83fb333a04e8",
   "metadata": {},
   "source": [
    "It is blank as expected. Now let's define a user with a name and age:"
   ]
  },
  {
   "cell_type": "code",
   "execution_count": 8,
   "id": "00c8e2c5-3bbd-4666-8fd7-8c177a894f28",
   "metadata": {},
   "outputs": [
    {
     "data": {
      "text/plain": [
       "{'name': 'John', 'age': 10}"
      ]
     },
     "execution_count": 8,
     "metadata": {},
     "output_type": "execute_result"
    }
   ],
   "source": [
    "user = user_1_pb2.User(name='John', age=10)\n",
    "MessageToDict(user)"
   ]
  },
  {
   "cell_type": "markdown",
   "id": "bb87db8a-3b41-480d-a376-ded084336a3d",
   "metadata": {},
   "source": [
    "John has age 10. That makes sense.\n",
    "Now let's create a newborn, Sally, of age 0:"
   ]
  },
  {
   "cell_type": "code",
   "execution_count": 9,
   "id": "57e0fa62-78fb-4789-9077-3bb4395b6d34",
   "metadata": {},
   "outputs": [
    {
     "data": {
      "text/plain": [
       "{'name': 'Sally'}"
      ]
     },
     "execution_count": 9,
     "metadata": {},
     "output_type": "execute_result"
    }
   ],
   "source": [
    "user = user_1_pb2.User(name='Sally', age=0)\n",
    "MessageToDict(user)"
   ]
  },
  {
   "cell_type": "markdown",
   "id": "c5f39f08-9dc6-4470-86ba-9bc2b54eecce",
   "metadata": {},
   "source": [
    "The age is missing! That can be a problem.\n",
    "Let's use a flag to force fill the age in."
   ]
  },
  {
   "cell_type": "code",
   "execution_count": 10,
   "id": "fb6a9897-8b63-4dfa-b774-07ce812c013d",
   "metadata": {},
   "outputs": [
    {
     "data": {
      "text/plain": [
       "{'name': 'Sally', 'age': 0}"
      ]
     },
     "execution_count": 10,
     "metadata": {},
     "output_type": "execute_result"
    }
   ],
   "source": [
    "user = user_1_pb2.User(name='Sally', age=0)\n",
    "MessageToDict(user, including_default_value_fields=True)"
   ]
  },
  {
   "cell_type": "markdown",
   "id": "d7342b70-e889-4294-b2e2-ddc2aa1c8448",
   "metadata": {},
   "source": [
    "Great. We have the age again.\n",
    "Now let's add an additional restriction. Sometimes\n",
    "we may want to register someone, but we may not actually know their age.\n",
    "In this case, let's allow it to be optional by not defining it.\n",
    "Let's create a new user Randall:"
   ]
  },
  {
   "cell_type": "code",
   "execution_count": 11,
   "id": "540ecc61-90da-4fbc-9fa2-7d5dfdcee2bd",
   "metadata": {},
   "outputs": [
    {
     "data": {
      "text/plain": [
       "{'name': 'Randall', 'age': 0}"
      ]
     },
     "execution_count": 11,
     "metadata": {},
     "output_type": "execute_result"
    }
   ],
   "source": [
    "user = user_1_pb2.User(name='Randall')\n",
    "MessageToDict(user, including_default_value_fields=True)"
   ]
  },
  {
   "cell_type": "markdown",
   "id": "48ac260d-792b-4bc0-a7c9-49302d5dff47",
   "metadata": {},
   "source": [
    "## A clear problem of missing information\n",
    "\n",
    "We have a problem. We can't actually create a user, encoding the \n",
    "information that the age is missing!\n",
    "\n",
    "Without having read anything about protobufs and simply probing this system,\n",
    "we know there is an information problem here. It is not possible\n",
    "to both encode 0 as meaning a missing value and an actual value!\n",
    "\n",
    "\n",
    "How could the developers have missed this? It is unclear but I feel free to read this issue [here](https://github.com/protocolbuffers/protobuf/issues/1606) for the full discussion.\n",
    "\n",
    "It turns out, since proto 3.12, that there is now an easy fix:"
   ]
  },
  {
   "cell_type": "code",
   "execution_count": 12,
   "id": "81bf4bdb-f53d-4b41-aec9-dbe2201aa0bd",
   "metadata": {},
   "outputs": [],
   "source": [
    "# Here we'll write to this file in python, since we are in a jupyter notebook.\n",
    "filename = 'code_snippets_2021_05_29/user_2_optional.proto'\n",
    "\n",
    "my_proto = \"\"\"\n",
    "syntax = \"proto3\";\n",
    "package user_2;\n",
    "\n",
    "\n",
    "message User {\n",
    "    string name  = 1;\n",
    "    optional uint32 age = 2;\n",
    "}\n",
    "\"\"\"\n",
    "with open(filename, 'w') as file:\n",
    "  file.write(my_proto)\n",
    "\n",
    "\n",
    "# compile the proto\n",
    "!$HOME/.local/proto/bin/protoc code_snippets_2021_05_29/*.proto --python_out ."
   ]
  },
  {
   "cell_type": "markdown",
   "id": "ad94259d-3c25-4d02-ac27-1360f691beb7",
   "metadata": {},
   "source": [
    "Now let's create the user again"
   ]
  },
  {
   "cell_type": "code",
   "execution_count": 13,
   "id": "36de2e78-ba2f-4df3-9b39-a1487fc59082",
   "metadata": {},
   "outputs": [
    {
     "data": {
      "text/plain": [
       "{'name': 'Randall'}"
      ]
     },
     "execution_count": 13,
     "metadata": {},
     "output_type": "execute_result"
    }
   ],
   "source": [
    "from code_snippets_2021_05_29 import user_2_optional_pb2\n",
    "\n",
    "user_2 = user_2_optional_pb2.User(name='Randall')\n",
    "MessageToDict(user_2, including_default_value_fields=True)"
   ]
  },
  {
   "cell_type": "markdown",
   "id": "cdb6ed57-d3a9-4b63-8e2c-7f158f3fc2ba",
   "metadata": {},
   "source": [
    "Perfect! This is exactly what we wanted. All the other cases work as expected as well."
   ]
  },
  {
   "cell_type": "code",
   "execution_count": 14,
   "id": "7fb7fa66-2154-4957-8583-743e74947ed7",
   "metadata": {},
   "outputs": [
    {
     "name": "stdout",
     "output_type": "stream",
     "text": [
      "John with an age\n",
      "{'name': 'John', 'age': 21}\n",
      "Sally the newborn\n",
      "{'name': 'Sally', 'age': 0}\n",
      "Randall the unknown\n",
      "{'name': 'Randall'}\n"
     ]
    }
   ],
   "source": [
    "print('John with an age')\n",
    "print(MessageToDict(user_2_optional_pb2.User(name='John', age=21)))\n",
    "\n",
    "print('Sally the newborn')\n",
    "print(MessageToDict(user_2_optional_pb2.User(name='Sally', age=0)))\n",
    "\n",
    "print('Randall the unknown')\n",
    "print(MessageToDict(user_2_optional_pb2.User(name='Randall'), including_default_value_fields=True))"
   ]
  },
  {
   "cell_type": "markdown",
   "id": "9866f8f9-973b-4369-9658-cdafd6f73a4f",
   "metadata": {},
   "source": [
    "But how is this happening?\n",
    "Without knowing anything about protobufs, you \n",
    "can also look at their raw outputs as bytes:"
   ]
  },
  {
   "cell_type": "code",
   "execution_count": 15,
   "id": "6e31c2fd-897c-4688-a696-838a7af6b7c9",
   "metadata": {},
   "outputs": [
    {
     "name": "stdout",
     "output_type": "stream",
     "text": [
      "John with an age\n",
      "b'\\n\\x04John\\x10\\x15'\n",
      "\n",
      "Sally the newborn before optional (notice the information of 0 is missing)\n",
      "b'\\n\\x05Sally'\n",
      "\n",
      "Sally the newborn after using optional\n",
      "b'\\n\\x05Sally\\x10\\x00'\n",
      "\n",
      "Randall the unknown\n",
      "b'\\n\\x07Randall'\n"
     ]
    }
   ],
   "source": [
    "print('John with an age')\n",
    "print(user_2_optional_pb2.User(name='John', age=21).SerializeToString())\n",
    "print()\n",
    "\n",
    "print('Sally the newborn before optional (notice the information of 0 is missing)')\n",
    "print(user_1_pb2.User(name='Sally', age=0).SerializeToString())\n",
    "print()\n",
    "\n",
    "print('Sally the newborn after using optional')\n",
    "print(user_2_optional_pb2.User(name='Sally', age=0).SerializeToString())\n",
    "print()\n",
    "\n",
    "print('Randall the unknown')\n",
    "print(user_2_optional_pb2.User(name='Randall').SerializeToString())"
   ]
  },
  {
   "cell_type": "markdown",
   "id": "0a4e9459-f4a5-4540-b9b8-9580fb83bdf9",
   "metadata": {},
   "source": [
    "By simply observing their outputs, one can see that the optional \n",
    "keyword has encoded additional information. The proto for \n",
    "Sally whose age was not defined with `optional` keyword appears \n",
    "to be missing from the byte string, whereas the proto for \n",
    "Sally whose age was defined with the `optional` string is present.\n",
    "One sees this because the first proto is a substring of the second.\n",
    "\n",
    "Obviously, one can refer to the documentation to understand this.\n",
    "I am intentionally avoiding an explanation to underscore convincing\n",
    "you by observation. This is because in the real world, we are\n",
    "faced to make, intuitive quick early decisions based on logical observations."
   ]
  },
  {
   "cell_type": "markdown",
   "id": "8df427e8-0d86-442a-825d-9f42752a2562",
   "metadata": {},
   "source": [
    "## Under the hood\n",
    "Under the hood, this is converting the primitive type to a [oneof field](https://github.com/protocolbuffers/protobuf/blob/master/docs/implementing_proto3_presence.md#background):\n",
    "\n",
    "> To minimize this risk we chose a descriptor representation that is semantically compatible with existing proto3 reflection. Every proto3 optional field is placed into a one-field oneof.\n",
    "\n",
    "However, all that is relevant to us I believe is the general outcome: default values are now serialized."
   ]
  },
  {
   "cell_type": "markdown",
   "id": "4e881932-35e6-4ad4-9aa7-3aa124140ff2",
   "metadata": {},
   "source": [
    "From the python API standpoint, this adds a new presence check feature \n",
    "`proto.HasField(field_name)` for these basic types.\n",
    "Note that previously this was only allowed for `Message` \n",
    "types and not primitive types.\n",
    "\n",
    "Why is this a problem? Let's look at the following example. We will define\n",
    "a simple `User` proto with a `name` and `age`."
   ]
  },
  {
   "cell_type": "code",
   "execution_count": 16,
   "id": "48e7f18a-d471-4944-8e3c-8a03686b1912",
   "metadata": {},
   "outputs": [
    {
     "name": "stdout",
     "output_type": "stream",
     "text": [
      "Does Sally 1 have an age?\n",
      "Exception: Can't test non-optional, non-submessage field \"User.age\" for presence in proto3.\n",
      "sally_2 has age defined: True\n",
      "randall_2 has age defined: False\n"
     ]
    }
   ],
   "source": [
    "sally_1 = user_1_pb2.User(name='Sally', age=0)\n",
    "sally_2 = user_2_optional_pb2.User(name='Sally', age=0)\n",
    "randall_2 = user_2_optional_pb2.User(name='Randall')\n",
    "\n",
    "\n",
    "# sally_1 has no `HasField` method because age is a primitive:\n",
    "print('Does Sally 1 have an age?')\n",
    "try:\n",
    "    sally_1.HasField('age')\n",
    "except Exception as error:\n",
    "    print(f'Exception: {error}')\n",
    "\n",
    "# However, sally_2 does:\n",
    "has_age = sally_2.HasField('age')\n",
    "print(f'sally_2 has age defined: {has_age}')\n",
    "\n",
    "\n",
    "# and Randall has no age defined\n",
    "has_age = randall_2.HasField('age')\n",
    "print(f'randall_2 has age defined: {has_age}')"
   ]
  },
  {
   "cell_type": "markdown",
   "id": "123318cf-3a21-4c16-8c18-8dab61f0f758",
   "metadata": {},
   "source": [
    "# Alternate Solutions\n",
    "Before this change, there were many alternate solutions. \n",
    "However, none of them were very intuitive. Previously you could have:\n",
    "- used a `oneof` field type. In this case, the user would have to check \n",
    "  which type was present in order to detect a null value\n",
    "  (NOTE that this is actually what is happening under the hood, \n",
    "  when using `optional` but with much more elegant syntax)\n",
    "- used one of the [protobuf wrapper types](https://github.com/protocolbuffers/protobuf/blob/master/src/google/protobuf/wrappers.proto). This would wrap primitive types into a message. Since a Message does encode presence, this solve the problem. However, the lookup of a value would involve first checking presence, and then accessing the `value` attribute of the message (since the primitive was actually defined there)\n",
    "- use two fields. The first field would be a bool which would be True if the field should be present. The second was the actual value.\n",
    "\n",
    "\n",
    "You may see a summary of such solutions \n",
    "from the stackoverflow post \n",
    "[here](https://stackoverflow.com/questions/42622015/how-to-define-an-optional-field-in-protobuf-3) \n",
    "(note that the accepted answer for this stackoverflow post has \n",
    "now been changed to using `optional`)."
   ]
  },
  {
   "cell_type": "markdown",
   "id": "32cb5428-f56c-4dd2-a2e4-563e68cef3e4",
   "metadata": {},
   "source": [
    "# Conclusion\n",
    "That's it! Very simple. This ends this post, but feel free to read the rest for \n",
    "some history."
   ]
  },
  {
   "cell_type": "code",
   "execution_count": null,
   "id": "47b129f1-585e-4920-97f7-c5024667adf4",
   "metadata": {},
   "outputs": [],
   "source": []
  },
  {
   "cell_type": "code",
   "execution_count": null,
   "id": "5d487e58-2506-4cf9-8ce6-6949ace5b2e4",
   "metadata": {},
   "outputs": [],
   "source": []
  }
 ],
 "metadata": {
  "kernelspec": {
   "display_name": "Python 3",
   "language": "python",
   "name": "python3"
  },
  "language_info": {
   "codemirror_mode": {
    "name": "ipython",
    "version": 3
   },
   "file_extension": ".py",
   "mimetype": "text/x-python",
   "name": "python",
   "nbconvert_exporter": "python",
   "pygments_lexer": "ipython3",
   "version": "3.8.10"
  }
 },
 "nbformat": 4,
 "nbformat_minor": 5
}
