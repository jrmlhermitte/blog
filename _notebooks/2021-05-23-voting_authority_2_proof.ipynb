{
 "cells": [
  {
   "cell_type": "markdown",
   "id": "f4fbd3a2-0e03-4ac0-87e9-b05171169b14",
   "metadata": {},
   "source": [
    "# Proof For Extracting and Predicting Linked Social Media Accounts\n",
    "> \"This blog post attempts to prove the formula introduced in 'Extracting and Predicting Linked Social Media Accounts'\"\n",
    "\n",
    "- toc: true\n",
    "- branch: master\n",
    "- badges: true\n",
    "- comments: true\n",
    "- categories: [fastpages, jupyter]\n",
    "- hide: false\n",
    "- search_exclude: true"
   ]
  },
  {
   "cell_type": "markdown",
   "id": "e8f426b6-2a73-48f7-b039-9039f5026b9c",
   "metadata": {},
   "source": [
    "# Proof\n",
    "The previous post mentioned more or less quantitatively the formula:\n",
    "$$Pr_{combined} = \\frac{\\prod_{i \\in A_p} Pr_i \\prod_{j \\notin A_p} FNR_j}\n",
    "{\\prod_{i \\in A_p} Pr_i\\prod_{j \\notin A_p} FNR_j + \\prod_{i \\in A_p} (1 - Pr_i) \\prod_{j \\notin A_p} (1 - FNR_j)}\n",
    "$$\n",
    "\n",
    "\n",
    "Now for the proof.\n",
    "\n",
    "One way to think of this is in terms of sets."
   ]
  },
  {
   "cell_type": "markdown",
   "id": "bd16a8a0-10f1-496c-95ed-10ac62c9345c",
   "metadata": {},
   "source": [
    "## Simple Case: Two Authorities vote the same positive result\n",
    "We will first consider the first case where we have only two authorities that vote for the same result. Let's say we have a universe of points $U$ of which some are true (green) and some false (red):\n",
    "<img src=\"images/2021_05_16_combined_authority_figa.png\" alt=\"Figure 1\" width=\"200\"/>\n",
    "\n",
    "And within this universe, we have two authorities $A_1$ and $A_2$ which have a subset of points that they decide are true:\n",
    "\n",
    "<img src=\"images/2021_05_16_combined_authority_figb.png\" alt=\"Figure 2\" width=\"200\"/>\n",
    "\n",
    "Here, the points that $A_1$ believes are true are denoted by the blue circle and the points that $A_2$ believes to be true are denoted by the purple circle. So points that $A_1$ and $A_2$ to both believe to be true would be represented by the overlap.\n",
    "\n",
    "It should be noted that here, without loss of generality, we assume the points are arranged in such a way so that we may draw such a picture. Points that both $A_1$ and $A_2$ believe to be true that is also true are grouped close together as are the ones where $A_1$ and $A_2$ believe to be true but are in fact not true etc etc.\n",
    "\n",
    "\n",
    "This image is not needed for the actual proof, but I think it helps give a better picture of what is going on."
   ]
  },
  {
   "cell_type": "markdown",
   "id": "8343804c-958c-45ae-972b-eeef6756fe4b",
   "metadata": {},
   "source": [
    "Before we formalize this, let's count the combined precision of this set.    \n",
    "\n",
    "The combined precision is the number of true positives over the sum of true positives (TP) and false positives (FP):\n",
    "$$\n",
    "Pr = \\frac{TP}{TP + FP}\n",
    "$$\n",
    "The TP are the overlap of the two authorities and what is true:\n",
    "$$TP = |T \\cap A_1 \\cap A_2|$$\n",
    "The FP are the overlap of the two authorities with what is false:\n",
    "$$FP = |F \\cap A_1 \\cap A_2|$$\n",
    "\n",
    "We can divide everything by all numbers in the universe of points $|U|$:\n",
    "$$Pr = \\frac{\\frac{TP}{|U|}}{\\frac{TP}{|U|} + \\frac{FP}{|U|}}$$\n",
    "\n",
    "The values in the quotient and denominators become probabilities:\n",
    "$$\\frac{TP}{|U|} = P(T \\cap A_1 \\cap A_2)$$\n",
    "$$\\frac{FP}{|U|} = P(F \\cap A_1 \\cap A_2)$$\n",
    "These probabilities can be rewritten in terms of conditional probabilities:\n",
    "$$\\frac{TP}{|U|} = P(T | A_1 \\cap A_2) P(A_1 \\cap A_2)$$\n",
    "and\n",
    "$$\\frac{FP}{|U|} = P(F | A_1 \\cap A_2) P(A_1 \\cap A_2)$$\n",
    "\n",
    "Now, this is nice, but it still leaves our final equation as this:\n",
    "$$\n",
    "\\frac{TP}{TP + FP} = \\frac{P(T | A_1 \\cap A_2) P(A_1 \\cap A_2)}{P(T | A_1 \\cap A_2) P(A_1 \\cap A_2) + P(F | A_1 \\cap A_2) P(A_1 \\cap A_2)}\n",
    "$$\n",
    "$$\n",
    "\\frac{TP}{TP + FP} = \\frac{P(T | A_1 \\cap A_2)}{P(T | A_1 \\cap A_2) + P(F | A_1 \\cap A_2) }$$\n",
    "\n",
    "Since we have terms like $A_1 \\cap A_2$, this equation still requires us to count how often $A_1$ and $A_2$ are right or wrong on the **same training set**. These kinds of measurements may not always be possible."
   ]
  },
  {
   "cell_type": "markdown",
   "id": "700898d6-c0cc-45f2-8ea2-6534f7589f77",
   "metadata": {},
   "source": [
    "However, if we can make one additional assumption that $A_1$'s decisions are completely unaffected by $A_2$ and vice versa (they are independent), the probabilities become:\n",
    "$$P(T | A_1 \\cap A_2) = P(T | A_1) P(T | A_2)$$\n",
    "$$P(F | A_1 \\cap A_2) = P(F | A_1) P(F | A_2)$$\n",
    "\n",
    "The probability of an event being marked true given it is true is actually just the precision:\n",
    "$$P(T | A_1) = Pr_{A_1}$$\n",
    "and that the inverse is just:\n",
    "$$P(F | A_1) = \\frac{F \\cap A_1}{U \\cap A_1} = \\frac{(U - T) \\cap A_1}{U\\cap A_1} = \\frac{U\\cap A_1}{U\\cap A_1} - \\frac{T \\cap A_1}{U \\cap A_1} = 1 - Pr_{A_1}$$\n",
    "\n",
    "\n",
    "Combining this together, we get:\n",
    "$$Pr_{A_1, A_2} = \\frac{Pr_{A_1} Pr_{A_2}}{Pr_{A_1} Pr_{A_2} + (1 - Pr_{A_1}) ( 1 - Pr_{A_2})}$$"
   ]
  },
  {
   "cell_type": "markdown",
   "id": "7fed7b73-5724-40e5-b7b4-b79edeeca27b",
   "metadata": {},
   "source": [
    "You can imagine extending this proof to multiple authorities:\n",
    "$$A_1 \\cap A_2 \\rightarrow A_1 \\cap A_2 \\cap \\cdots \\cap A_i$$\n",
    "Leading to:\n",
    "$$Pr_{A_1 \\cdots A_i} = \\frac{\\prod_i Pr_{A_i}}{\\prod_i Pr_{A_i} + \\prod_i (1 - Pr_{A_i})}$$"
   ]
  },
  {
   "cell_type": "markdown",
   "id": "35cc0539-1ca8-402d-80b0-f908971bd57e",
   "metadata": {},
   "source": [
    "## The case where some authorities vote against a link\n",
    "\n",
    "When we have an authority that votes agains a link, the \n",
    "idea is similar, except the initial TP is:\n",
    "$$TP = (T \\cup A_1 \\cup \\bar{A}_2)$$\n",
    "where $\\bar{A}_2 = U - A_2$.\n",
    "\n",
    "The FP are also:\n",
    "$$FP = (F \\cup A_1 \\cup \\bar{A}_2)$$\n",
    "\n",
    "\n",
    "Finally, this leads to $P(T | \\bar{A}_2) = FNR_{A_2}$.\n",
    "I leave it up to the reader to fill in the gaps."
   ]
  },
  {
   "cell_type": "markdown",
   "id": "4c3e3c50-dc0b-4354-a480-e888f41c8ff4",
   "metadata": {},
   "source": [
    "If you have questions or comments, I would love to hear them!"
   ]
  },
  {
   "cell_type": "code",
   "execution_count": null,
   "id": "8991b6df-86d4-43dd-b990-0b3be84c92cd",
   "metadata": {},
   "outputs": [],
   "source": []
  },
  {
   "cell_type": "code",
   "execution_count": null,
   "id": "a7a98a11-dfd6-4c9d-b1ce-25c187d3f78a",
   "metadata": {},
   "outputs": [],
   "source": []
  },
  {
   "cell_type": "code",
   "execution_count": null,
   "id": "3bce8ee6-18b2-4bec-b4a7-62c3bf46b1bc",
   "metadata": {},
   "outputs": [],
   "source": []
  }
 ],
 "metadata": {
  "kernelspec": {
   "display_name": "Python 3",
   "language": "python",
   "name": "python3"
  },
  "language_info": {
   "codemirror_mode": {
    "name": "ipython",
    "version": 3
   },
   "file_extension": ".py",
   "mimetype": "text/x-python",
   "name": "python",
   "nbconvert_exporter": "python",
   "pygments_lexer": "ipython3",
   "version": "3.8.10"
  }
 },
 "nbformat": 4,
 "nbformat_minor": 5
}
